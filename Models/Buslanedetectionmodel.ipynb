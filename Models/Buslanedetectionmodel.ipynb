{
 "cells": [
  {
   "cell_type": "code",
   "execution_count": 1,
   "id": "d9071664-b3a1-4263-b869-68cbdffb6dd2",
   "metadata": {},
   "outputs": [],
   "source": [
    "import cv2\n",
    "import numpy as np\n",
    "from ultralytics import YOLO"
   ]
  },
  {
   "cell_type": "code",
   "execution_count": 2,
   "id": "7eaee090-85e6-4b0e-a8c1-f510082fa13d",
   "metadata": {},
   "outputs": [
    {
     "name": "stdout",
     "output_type": "stream",
     "text": [
      "\u001b[KDownloading https://github.com/ultralytics/assets/releases/download/v8.3.0/yolov8n.pt to 'yolov8n.pt': 100% ━━━━━━━━━━━━ 6.2/6.2MB 7.1MB/s 0.9s1s\n"
     ]
    },
    {
     "ename": "error",
     "evalue": "OpenCV(4.11.0) D:\\a\\opencv-python\\opencv-python\\opencv\\modules\\imgproc\\src\\color.cpp:199: error: (-215:Assertion failed) !_src.empty() in function 'cv::cvtColor'\n",
     "output_type": "error",
     "traceback": [
      "\u001b[1;31m---------------------------------------------------------------------------\u001b[0m",
      "\u001b[1;31merror\u001b[0m                                     Traceback (most recent call last)",
      "Cell \u001b[1;32mIn[2], line 20\u001b[0m\n\u001b[0;32m     18\u001b[0m \u001b[38;5;66;03m# Process first frame to find road region\u001b[39;00m\n\u001b[0;32m     19\u001b[0m ret, frame \u001b[38;5;241m=\u001b[39m cap\u001b[38;5;241m.\u001b[39mread()\n\u001b[1;32m---> 20\u001b[0m road_x1, road_y1, road_x2, road_y2 \u001b[38;5;241m=\u001b[39m \u001b[43mget_road_region\u001b[49m\u001b[43m(\u001b[49m\u001b[43mframe\u001b[49m\u001b[43m)\u001b[49m\n\u001b[0;32m     22\u001b[0m \u001b[38;5;66;03m# Define bus lane inside detected road area\u001b[39;00m\n\u001b[0;32m     23\u001b[0m bus_lane_x1 \u001b[38;5;241m=\u001b[39m \u001b[38;5;28mint\u001b[39m(road_x1 \u001b[38;5;241m+\u001b[39m \u001b[38;5;241m0.10\u001b[39m \u001b[38;5;241m*\u001b[39m (road_x2 \u001b[38;5;241m-\u001b[39m road_x1))  \n",
      "Cell \u001b[1;32mIn[2], line 13\u001b[0m, in \u001b[0;36mget_road_region\u001b[1;34m(frame)\u001b[0m\n\u001b[0;32m     12\u001b[0m \u001b[38;5;28;01mdef\u001b[39;00m \u001b[38;5;21mget_road_region\u001b[39m(frame):\n\u001b[1;32m---> 13\u001b[0m     gray \u001b[38;5;241m=\u001b[39m \u001b[43mcv2\u001b[49m\u001b[38;5;241;43m.\u001b[39;49m\u001b[43mcvtColor\u001b[49m\u001b[43m(\u001b[49m\u001b[43mframe\u001b[49m\u001b[43m,\u001b[49m\u001b[43m \u001b[49m\u001b[43mcv2\u001b[49m\u001b[38;5;241;43m.\u001b[39;49m\u001b[43mCOLOR_BGR2GRAY\u001b[49m\u001b[43m)\u001b[49m\n\u001b[0;32m     14\u001b[0m     _, thresh \u001b[38;5;241m=\u001b[39m cv2\u001b[38;5;241m.\u001b[39mthreshold(gray, \u001b[38;5;241m1\u001b[39m, \u001b[38;5;241m255\u001b[39m, cv2\u001b[38;5;241m.\u001b[39mTHRESH_BINARY)  \u001b[38;5;66;03m# Detect non-black pixels\u001b[39;00m\n\u001b[0;32m     15\u001b[0m     x, y, w, h \u001b[38;5;241m=\u001b[39m cv2\u001b[38;5;241m.\u001b[39mboundingRect(thresh)  \u001b[38;5;66;03m# Get bounding box of road area\u001b[39;00m\n",
      "\u001b[1;31merror\u001b[0m: OpenCV(4.11.0) D:\\a\\opencv-python\\opencv-python\\opencv\\modules\\imgproc\\src\\color.cpp:199: error: (-215:Assertion failed) !_src.empty() in function 'cv::cvtColor'\n"
     ]
    }
   ],
   "source": [
    "# Load YOLO model\n",
    "model = YOLO(\"yolov8n.pt\")  \n",
    "# Load video\n",
    "video_path = \"newbuslane.mp4\"\n",
    "cap = cv2.VideoCapture(video_path)\n",
    "\n",
    "# Get video dimensions\n",
    "frame_width = int(cap.get(3))  \n",
    "frame_height = int(cap.get(4))  \n",
    "\n",
    "# Detect non-black area (road) dynamically\n",
    "def get_road_region(frame):\n",
    "    gray = cv2.cvtColor(frame, cv2.COLOR_BGR2GRAY)\n",
    "    _, thresh = cv2.threshold(gray, 1, 255, cv2.THRESH_BINARY)  # Detect non-black pixels\n",
    "    x, y, w, h = cv2.boundingRect(thresh)  # Get bounding box of road area\n",
    "    return (x, y, x + w, y + h)  # (x1, y1, x2, y2)\n",
    "\n",
    "# Process first frame to find road region\n",
    "ret, frame = cap.read()\n",
    "road_x1, road_y1, road_x2, road_y2 = get_road_region(frame)\n",
    "\n",
    "# Define bus lane inside detected road area\n",
    "bus_lane_x1 = int(road_x1 + 0.10 * (road_x2 - road_x1))  \n",
    "bus_lane_x2 = int(road_x1 + 0.90 * (road_x2 - road_x1))  \n",
    "bus_lane_y1 = road_y1  \n",
    "bus_lane_y2 = road_y2  \n",
    "\n",
    "while cap.isOpened():\n",
    "    ret, frame = cap.read()\n",
    "    if not ret:\n",
    "        break\n",
    "\n",
    "    results = model(frame)\n",
    "\n",
    "    # Draw detected road boundary\n",
    "    cv2.rectangle(frame, (road_x1, road_y1), (road_x2, road_y2), (255, 255, 255), 2)\n",
    "\n",
    "    # Draw bus lane inside detected road\n",
    "    cv2.rectangle(frame, (bus_lane_x1, bus_lane_y1), (bus_lane_x2, bus_lane_y2), (0, 255, 0), 2)\n",
    "    cv2.putText(frame, \"Bus Lane\", (bus_lane_x1, bus_lane_y1 - 10),\n",
    "                cv2.FONT_HERSHEY_SIMPLEX, 0.6, (0, 255, 0), 2)\n",
    "\n",
    "   \n",
    "    for r in results:\n",
    "         for box in r.boxes:\n",
    "            cls = int(box.cls[0])\n",
    "            label = r.names[cls]\n",
    "\n",
    "            x1, y1, x2, y2 = map(int, box.xyxy[0])\n",
    "            width = x2 - x1\n",
    "            height = y2 - y1\n",
    "\n",
    "            center_x, center_y = (x1 + x2) // 2, (y1 + y2) // 2\n",
    "\n",
    "            # Check if the vehicle is inside the bus lane\n",
    "            if bus_lane_x1 < center_x < bus_lane_x2 and bus_lane_y1 < center_y < bus_lane_y2:\n",
    "                if label in [\"bus\"]:  # Authorized vehicles\n",
    "                    color = (0, 255, 0)  # Green\n",
    "                    text = f\"Unauthorized: {label}\"\n",
    "                else:  # Unauthorized vehicles\n",
    "                    color = (0, 0, 255)  # Red\n",
    "                    text = f\"Unauthorized: {label}\"\n",
    "\n",
    "                # Draw the bounding box\n",
    "                cv2.rectangle(frame, (x1, y1), (x2, y2), color, 2)\n",
    "                cv2.putText(frame, text, (x1, y1 - 10), \n",
    "                            cv2.FONT_HERSHEY_SIMPLEX, 0.6, color, 2)\n",
    "\n",
    "\n",
    "    cv2.imshow(\"Bus Lane Monitoring\", frame)\n",
    " \n",
    "    if cv2.waitKey(1) & 0xFF == ord(\"q\"):  \n",
    "        break\n",
    "\n",
    "cap.release()\n",
    "cv2.destroyAllWindows()"
   ]
  },
  {
   "cell_type": "code",
   "execution_count": null,
   "id": "cac2de6b-8f86-41be-89e8-4da1d95ef90f",
   "metadata": {},
   "outputs": [],
   "source": []
  }
 ],
 "metadata": {
  "kernelspec": {
   "display_name": "Python 3 (ipykernel)",
   "language": "python",
   "name": "python3"
  },
  "language_info": {
   "codemirror_mode": {
    "name": "ipython",
    "version": 3
   },
   "file_extension": ".py",
   "mimetype": "text/x-python",
   "name": "python",
   "nbconvert_exporter": "python",
   "pygments_lexer": "ipython3",
   "version": "3.10.11"
  }
 },
 "nbformat": 4,
 "nbformat_minor": 5
}
